{
 "cells": [
  {
   "cell_type": "code",
   "execution_count": 1,
   "id": "01b7a159",
   "metadata": {},
   "outputs": [],
   "source": [
    "import pandas as pd\n",
    "df=pd.DataFrame()"
   ]
  },
  {
   "cell_type": "code",
   "execution_count": 2,
   "id": "b4870a59",
   "metadata": {},
   "outputs": [],
   "source": [
    "df = pd.read_excel('GNO_FOR_FORECAST.xlsx', 'Sheet1', usecols=['Date', 'FOB_Net_Weight'])"
   ]
  },
  {
   "cell_type": "code",
   "execution_count": 3,
   "id": "3a1604ea",
   "metadata": {},
   "outputs": [
    {
     "name": "stdout",
     "output_type": "stream",
     "text": [
      "<class 'pandas.core.frame.DataFrame'>\n",
      "RangeIndex: 153 entries, 0 to 152\n",
      "Data columns (total 2 columns):\n",
      " #   Column          Non-Null Count  Dtype         \n",
      "---  ------          --------------  -----         \n",
      " 0   Date            153 non-null    datetime64[ns]\n",
      " 1   FOB_Net_Weight  153 non-null    float64       \n",
      "dtypes: datetime64[ns](1), float64(1)\n",
      "memory usage: 2.5 KB\n"
     ]
    }
   ],
   "source": [
    "df.info()"
   ]
  },
  {
   "cell_type": "code",
   "execution_count": 4,
   "id": "e9d9a076",
   "metadata": {},
   "outputs": [
    {
     "data": {
      "text/html": [
       "<div>\n",
       "<style scoped>\n",
       "    .dataframe tbody tr th:only-of-type {\n",
       "        vertical-align: middle;\n",
       "    }\n",
       "\n",
       "    .dataframe tbody tr th {\n",
       "        vertical-align: top;\n",
       "    }\n",
       "\n",
       "    .dataframe thead th {\n",
       "        text-align: right;\n",
       "    }\n",
       "</style>\n",
       "<table border=\"1\" class=\"dataframe\">\n",
       "  <thead>\n",
       "    <tr style=\"text-align: right;\">\n",
       "      <th></th>\n",
       "      <th>Date</th>\n",
       "      <th>FOB_Net_Weight</th>\n",
       "      <th>Price_LastMonth</th>\n",
       "      <th>Price_2Monthsback</th>\n",
       "      <th>Price_3Monthsback</th>\n",
       "    </tr>\n",
       "  </thead>\n",
       "  <tbody>\n",
       "    <tr>\n",
       "      <th>0</th>\n",
       "      <td>2018-07-14 08:00:00</td>\n",
       "      <td>175.000000</td>\n",
       "      <td>NaN</td>\n",
       "      <td>NaN</td>\n",
       "      <td>NaN</td>\n",
       "    </tr>\n",
       "    <tr>\n",
       "      <th>1</th>\n",
       "      <td>2018-07-17 08:00:00</td>\n",
       "      <td>75.808333</td>\n",
       "      <td>175.000000</td>\n",
       "      <td>NaN</td>\n",
       "      <td>NaN</td>\n",
       "    </tr>\n",
       "    <tr>\n",
       "      <th>2</th>\n",
       "      <td>2018-07-27 08:00:00</td>\n",
       "      <td>126.500000</td>\n",
       "      <td>75.808333</td>\n",
       "      <td>175.000000</td>\n",
       "      <td>NaN</td>\n",
       "    </tr>\n",
       "    <tr>\n",
       "      <th>3</th>\n",
       "      <td>2018-08-08 08:00:00</td>\n",
       "      <td>160.066667</td>\n",
       "      <td>126.500000</td>\n",
       "      <td>75.808333</td>\n",
       "      <td>175.000000</td>\n",
       "    </tr>\n",
       "    <tr>\n",
       "      <th>4</th>\n",
       "      <td>2018-08-10 08:00:00</td>\n",
       "      <td>110.180000</td>\n",
       "      <td>160.066667</td>\n",
       "      <td>126.500000</td>\n",
       "      <td>75.808333</td>\n",
       "    </tr>\n",
       "    <tr>\n",
       "      <th>...</th>\n",
       "      <td>...</td>\n",
       "      <td>...</td>\n",
       "      <td>...</td>\n",
       "      <td>...</td>\n",
       "      <td>...</td>\n",
       "    </tr>\n",
       "    <tr>\n",
       "      <th>148</th>\n",
       "      <td>2021-07-08 08:00:00</td>\n",
       "      <td>238.380000</td>\n",
       "      <td>218.000000</td>\n",
       "      <td>205.000000</td>\n",
       "      <td>227.857040</td>\n",
       "    </tr>\n",
       "    <tr>\n",
       "      <th>149</th>\n",
       "      <td>2021-07-15 08:00:00</td>\n",
       "      <td>237.077855</td>\n",
       "      <td>238.380000</td>\n",
       "      <td>218.000000</td>\n",
       "      <td>205.000000</td>\n",
       "    </tr>\n",
       "    <tr>\n",
       "      <th>150</th>\n",
       "      <td>2021-08-02 08:00:00</td>\n",
       "      <td>192.500000</td>\n",
       "      <td>237.077855</td>\n",
       "      <td>238.380000</td>\n",
       "      <td>218.000000</td>\n",
       "    </tr>\n",
       "    <tr>\n",
       "      <th>151</th>\n",
       "      <td>2021-08-06 08:00:00</td>\n",
       "      <td>205.000000</td>\n",
       "      <td>192.500000</td>\n",
       "      <td>237.077855</td>\n",
       "      <td>238.380000</td>\n",
       "    </tr>\n",
       "    <tr>\n",
       "      <th>152</th>\n",
       "      <td>2021-09-02 08:00:00</td>\n",
       "      <td>218.000000</td>\n",
       "      <td>205.000000</td>\n",
       "      <td>192.500000</td>\n",
       "      <td>237.077855</td>\n",
       "    </tr>\n",
       "  </tbody>\n",
       "</table>\n",
       "<p>153 rows × 5 columns</p>\n",
       "</div>"
      ],
      "text/plain": [
       "                   Date  FOB_Net_Weight  Price_LastMonth  Price_2Monthsback  \\\n",
       "0   2018-07-14 08:00:00      175.000000              NaN                NaN   \n",
       "1   2018-07-17 08:00:00       75.808333       175.000000                NaN   \n",
       "2   2018-07-27 08:00:00      126.500000        75.808333         175.000000   \n",
       "3   2018-08-08 08:00:00      160.066667       126.500000          75.808333   \n",
       "4   2018-08-10 08:00:00      110.180000       160.066667         126.500000   \n",
       "..                  ...             ...              ...                ...   \n",
       "148 2021-07-08 08:00:00      238.380000       218.000000         205.000000   \n",
       "149 2021-07-15 08:00:00      237.077855       238.380000         218.000000   \n",
       "150 2021-08-02 08:00:00      192.500000       237.077855         238.380000   \n",
       "151 2021-08-06 08:00:00      205.000000       192.500000         237.077855   \n",
       "152 2021-09-02 08:00:00      218.000000       205.000000         192.500000   \n",
       "\n",
       "     Price_3Monthsback  \n",
       "0                  NaN  \n",
       "1                  NaN  \n",
       "2                  NaN  \n",
       "3           175.000000  \n",
       "4            75.808333  \n",
       "..                 ...  \n",
       "148         227.857040  \n",
       "149         205.000000  \n",
       "150         218.000000  \n",
       "151         238.380000  \n",
       "152         237.077855  \n",
       "\n",
       "[153 rows x 5 columns]"
      ]
     },
     "execution_count": 4,
     "metadata": {},
     "output_type": "execute_result"
    }
   ],
   "source": [
    "df['Price_LastMonth']=df['FOB_Net_Weight'].shift(+1)\n",
    "df['Price_2Monthsback']=df['FOB_Net_Weight'].shift(+2)\n",
    "df['Price_3Monthsback']=df['FOB_Net_Weight'].shift(+3)\n",
    "df"
   ]
  },
  {
   "cell_type": "code",
   "execution_count": 5,
   "id": "ad1a82ac",
   "metadata": {},
   "outputs": [
    {
     "data": {
      "text/html": [
       "<div>\n",
       "<style scoped>\n",
       "    .dataframe tbody tr th:only-of-type {\n",
       "        vertical-align: middle;\n",
       "    }\n",
       "\n",
       "    .dataframe tbody tr th {\n",
       "        vertical-align: top;\n",
       "    }\n",
       "\n",
       "    .dataframe thead th {\n",
       "        text-align: right;\n",
       "    }\n",
       "</style>\n",
       "<table border=\"1\" class=\"dataframe\">\n",
       "  <thead>\n",
       "    <tr style=\"text-align: right;\">\n",
       "      <th></th>\n",
       "      <th>Date</th>\n",
       "      <th>FOB_Net_Weight</th>\n",
       "      <th>Price_LastMonth</th>\n",
       "      <th>Price_2Monthsback</th>\n",
       "      <th>Price_3Monthsback</th>\n",
       "    </tr>\n",
       "  </thead>\n",
       "  <tbody>\n",
       "    <tr>\n",
       "      <th>3</th>\n",
       "      <td>2018-08-08 08:00:00</td>\n",
       "      <td>160.066667</td>\n",
       "      <td>126.500000</td>\n",
       "      <td>75.808333</td>\n",
       "      <td>175.000000</td>\n",
       "    </tr>\n",
       "    <tr>\n",
       "      <th>4</th>\n",
       "      <td>2018-08-10 08:00:00</td>\n",
       "      <td>110.180000</td>\n",
       "      <td>160.066667</td>\n",
       "      <td>126.500000</td>\n",
       "      <td>75.808333</td>\n",
       "    </tr>\n",
       "    <tr>\n",
       "      <th>5</th>\n",
       "      <td>2018-08-14 08:00:00</td>\n",
       "      <td>81.891892</td>\n",
       "      <td>110.180000</td>\n",
       "      <td>160.066667</td>\n",
       "      <td>126.500000</td>\n",
       "    </tr>\n",
       "    <tr>\n",
       "      <th>6</th>\n",
       "      <td>2018-08-21 08:00:00</td>\n",
       "      <td>94.487578</td>\n",
       "      <td>81.891892</td>\n",
       "      <td>110.180000</td>\n",
       "      <td>160.066667</td>\n",
       "    </tr>\n",
       "    <tr>\n",
       "      <th>7</th>\n",
       "      <td>2018-08-21 08:00:00</td>\n",
       "      <td>125.000000</td>\n",
       "      <td>94.487578</td>\n",
       "      <td>81.891892</td>\n",
       "      <td>110.180000</td>\n",
       "    </tr>\n",
       "    <tr>\n",
       "      <th>...</th>\n",
       "      <td>...</td>\n",
       "      <td>...</td>\n",
       "      <td>...</td>\n",
       "      <td>...</td>\n",
       "      <td>...</td>\n",
       "    </tr>\n",
       "    <tr>\n",
       "      <th>148</th>\n",
       "      <td>2021-07-08 08:00:00</td>\n",
       "      <td>238.380000</td>\n",
       "      <td>218.000000</td>\n",
       "      <td>205.000000</td>\n",
       "      <td>227.857040</td>\n",
       "    </tr>\n",
       "    <tr>\n",
       "      <th>149</th>\n",
       "      <td>2021-07-15 08:00:00</td>\n",
       "      <td>237.077855</td>\n",
       "      <td>238.380000</td>\n",
       "      <td>218.000000</td>\n",
       "      <td>205.000000</td>\n",
       "    </tr>\n",
       "    <tr>\n",
       "      <th>150</th>\n",
       "      <td>2021-08-02 08:00:00</td>\n",
       "      <td>192.500000</td>\n",
       "      <td>237.077855</td>\n",
       "      <td>238.380000</td>\n",
       "      <td>218.000000</td>\n",
       "    </tr>\n",
       "    <tr>\n",
       "      <th>151</th>\n",
       "      <td>2021-08-06 08:00:00</td>\n",
       "      <td>205.000000</td>\n",
       "      <td>192.500000</td>\n",
       "      <td>237.077855</td>\n",
       "      <td>238.380000</td>\n",
       "    </tr>\n",
       "    <tr>\n",
       "      <th>152</th>\n",
       "      <td>2021-09-02 08:00:00</td>\n",
       "      <td>218.000000</td>\n",
       "      <td>205.000000</td>\n",
       "      <td>192.500000</td>\n",
       "      <td>237.077855</td>\n",
       "    </tr>\n",
       "  </tbody>\n",
       "</table>\n",
       "<p>150 rows × 5 columns</p>\n",
       "</div>"
      ],
      "text/plain": [
       "                   Date  FOB_Net_Weight  Price_LastMonth  Price_2Monthsback  \\\n",
       "3   2018-08-08 08:00:00      160.066667       126.500000          75.808333   \n",
       "4   2018-08-10 08:00:00      110.180000       160.066667         126.500000   \n",
       "5   2018-08-14 08:00:00       81.891892       110.180000         160.066667   \n",
       "6   2018-08-21 08:00:00       94.487578        81.891892         110.180000   \n",
       "7   2018-08-21 08:00:00      125.000000        94.487578          81.891892   \n",
       "..                  ...             ...              ...                ...   \n",
       "148 2021-07-08 08:00:00      238.380000       218.000000         205.000000   \n",
       "149 2021-07-15 08:00:00      237.077855       238.380000         218.000000   \n",
       "150 2021-08-02 08:00:00      192.500000       237.077855         238.380000   \n",
       "151 2021-08-06 08:00:00      205.000000       192.500000         237.077855   \n",
       "152 2021-09-02 08:00:00      218.000000       205.000000         192.500000   \n",
       "\n",
       "     Price_3Monthsback  \n",
       "3           175.000000  \n",
       "4            75.808333  \n",
       "5           126.500000  \n",
       "6           160.066667  \n",
       "7           110.180000  \n",
       "..                 ...  \n",
       "148         227.857040  \n",
       "149         205.000000  \n",
       "150         218.000000  \n",
       "151         238.380000  \n",
       "152         237.077855  \n",
       "\n",
       "[150 rows x 5 columns]"
      ]
     },
     "execution_count": 5,
     "metadata": {},
     "output_type": "execute_result"
    }
   ],
   "source": [
    "df=df.dropna()\n",
    "df"
   ]
  },
  {
   "cell_type": "code",
   "execution_count": 6,
   "id": "8b6fae41",
   "metadata": {},
   "outputs": [
    {
     "data": {
      "text/html": [
       "<div>\n",
       "<style scoped>\n",
       "    .dataframe tbody tr th:only-of-type {\n",
       "        vertical-align: middle;\n",
       "    }\n",
       "\n",
       "    .dataframe tbody tr th {\n",
       "        vertical-align: top;\n",
       "    }\n",
       "\n",
       "    .dataframe thead th {\n",
       "        text-align: right;\n",
       "    }\n",
       "</style>\n",
       "<table border=\"1\" class=\"dataframe\">\n",
       "  <thead>\n",
       "    <tr style=\"text-align: right;\">\n",
       "      <th></th>\n",
       "      <th>FOB_Net_Weight</th>\n",
       "      <th>Price_LastMonth</th>\n",
       "      <th>Price_2Monthsback</th>\n",
       "      <th>Price_3Monthsback</th>\n",
       "    </tr>\n",
       "  </thead>\n",
       "  <tbody>\n",
       "    <tr>\n",
       "      <th>count</th>\n",
       "      <td>150.000000</td>\n",
       "      <td>150.000000</td>\n",
       "      <td>150.000000</td>\n",
       "      <td>150.000000</td>\n",
       "    </tr>\n",
       "    <tr>\n",
       "      <th>mean</th>\n",
       "      <td>224.475096</td>\n",
       "      <td>223.865096</td>\n",
       "      <td>223.003818</td>\n",
       "      <td>222.887151</td>\n",
       "    </tr>\n",
       "    <tr>\n",
       "      <th>std</th>\n",
       "      <td>101.890220</td>\n",
       "      <td>102.202664</td>\n",
       "      <td>102.904659</td>\n",
       "      <td>102.949384</td>\n",
       "    </tr>\n",
       "    <tr>\n",
       "      <th>min</th>\n",
       "      <td>67.500000</td>\n",
       "      <td>67.500000</td>\n",
       "      <td>67.500000</td>\n",
       "      <td>67.500000</td>\n",
       "    </tr>\n",
       "    <tr>\n",
       "      <th>25%</th>\n",
       "      <td>155.250000</td>\n",
       "      <td>155.000000</td>\n",
       "      <td>155.000000</td>\n",
       "      <td>155.000000</td>\n",
       "    </tr>\n",
       "    <tr>\n",
       "      <th>50%</th>\n",
       "      <td>206.000000</td>\n",
       "      <td>205.000000</td>\n",
       "      <td>205.000000</td>\n",
       "      <td>205.000000</td>\n",
       "    </tr>\n",
       "    <tr>\n",
       "      <th>75%</th>\n",
       "      <td>257.541675</td>\n",
       "      <td>257.541675</td>\n",
       "      <td>257.541675</td>\n",
       "      <td>257.541675</td>\n",
       "    </tr>\n",
       "    <tr>\n",
       "      <th>max</th>\n",
       "      <td>614.000000</td>\n",
       "      <td>614.000000</td>\n",
       "      <td>614.000000</td>\n",
       "      <td>614.000000</td>\n",
       "    </tr>\n",
       "  </tbody>\n",
       "</table>\n",
       "</div>"
      ],
      "text/plain": [
       "       FOB_Net_Weight  Price_LastMonth  Price_2Monthsback  Price_3Monthsback\n",
       "count      150.000000       150.000000         150.000000         150.000000\n",
       "mean       224.475096       223.865096         223.003818         222.887151\n",
       "std        101.890220       102.202664         102.904659         102.949384\n",
       "min         67.500000        67.500000          67.500000          67.500000\n",
       "25%        155.250000       155.000000         155.000000         155.000000\n",
       "50%        206.000000       205.000000         205.000000         205.000000\n",
       "75%        257.541675       257.541675         257.541675         257.541675\n",
       "max        614.000000       614.000000         614.000000         614.000000"
      ]
     },
     "execution_count": 6,
     "metadata": {},
     "output_type": "execute_result"
    }
   ],
   "source": [
    "df.describe()"
   ]
  },
  {
   "cell_type": "code",
   "execution_count": 7,
   "id": "503144da",
   "metadata": {},
   "outputs": [],
   "source": [
    "from sklearn.linear_model import LinearRegression\n",
    "lin_model=LinearRegression()"
   ]
  },
  {
   "cell_type": "code",
   "execution_count": 8,
   "id": "726d5842",
   "metadata": {},
   "outputs": [],
   "source": [
    "from sklearn.ensemble import RandomForestRegressor\n",
    "model=RandomForestRegressor(n_estimators=100, max_features=3, random_state=1)"
   ]
  },
  {
   "cell_type": "code",
   "execution_count": 9,
   "id": "53b14800",
   "metadata": {},
   "outputs": [
    {
     "name": "stdout",
     "output_type": "stream",
     "text": [
      "[[126.5         75.80833333 175.        ]\n",
      " [160.06666667 126.5         75.80833333]\n",
      " [110.18       160.06666667 126.5       ]\n",
      " [ 81.89189189 110.18       160.06666667]\n",
      " [ 94.48757799  81.89189189 110.18      ]\n",
      " [125.          94.48757799  81.89189189]\n",
      " [139.72694698 125.          94.48757799]\n",
      " [180.         139.72694698 125.        ]\n",
      " [225.         180.         139.72694698]\n",
      " [207.         225.         180.        ]\n",
      " [124.         207.         225.        ]\n",
      " [ 76.42222222 124.         207.        ]\n",
      " [219.6         76.42222222 124.        ]\n",
      " [106.04545455 219.6         76.42222222]\n",
      " [197.         106.04545455 219.6       ]\n",
      " [235.         197.         106.04545455]\n",
      " [131.         235.         197.        ]\n",
      " [111.38235294 131.         235.        ]\n",
      " [294.6        111.38235294 131.        ]\n",
      " [ 67.5        294.6        111.38235294]\n",
      " [131.          67.5        294.6       ]\n",
      " [266.075      131.          67.5       ]\n",
      " [ 85.94017094 266.075      131.        ]\n",
      " [243.51        85.94017094 266.075     ]\n",
      " [400.         243.51        85.94017094]\n",
      " [194.25771239 400.         243.51      ]\n",
      " [244.68       194.25771239 400.        ]\n",
      " [270.         244.68       194.25771239]\n",
      " [207.         270.         244.68      ]\n",
      " [138.         207.         270.        ]\n",
      " [212.         138.         207.        ]\n",
      " [412.5        212.         138.        ]\n",
      " [224.8        412.5        212.        ]\n",
      " [138.         224.8        412.5       ]\n",
      " [155.         138.         224.8       ]\n",
      " [231.8        155.         138.        ]\n",
      " [224.8333     231.8        155.        ]\n",
      " [220.         224.8333     231.8       ]\n",
      " [244.5267     220.         224.8333    ]\n",
      " [302.         244.5267     220.        ]\n",
      " [145.         302.         244.5267    ]\n",
      " [184.3011     145.         302.        ]\n",
      " [210.75       184.3011     145.        ]\n",
      " [215.5        210.75       184.3011    ]\n",
      " [295.         215.5        210.75      ]\n",
      " [145.         295.         215.5       ]\n",
      " [207.         145.         295.        ]\n",
      " [258.5        207.         145.        ]\n",
      " [145.         258.5        207.        ]\n",
      " [124.94       145.         258.5       ]\n",
      " [156.         124.94       145.        ]\n",
      " [345.         156.         124.94      ]\n",
      " [400.         345.         156.        ]\n",
      " [612.5        400.         345.        ]\n",
      " [330.5        612.5        400.        ]\n",
      " [325.         330.5        612.5       ]\n",
      " [231.41       325.         330.5       ]\n",
      " [325.         231.41       325.        ]\n",
      " [145.         325.         231.41      ]\n",
      " [289.5        145.         325.        ]\n",
      " [145.         289.5        145.        ]\n",
      " [261.1167     145.         289.5       ]\n",
      " [187.         261.1167     145.        ]\n",
      " [297.         187.         261.1167    ]\n",
      " [ 99.         297.         187.        ]\n",
      " [185.          99.         297.        ]\n",
      " [254.6667     185.          99.        ]\n",
      " [185.         254.6667     185.        ]\n",
      " [ 84.946      185.         254.6667    ]\n",
      " [155.          84.946      185.        ]\n",
      " [145.         155.          84.946     ]\n",
      " [190.         145.         155.        ]\n",
      " [155.         190.         145.        ]\n",
      " [200.         155.         190.        ]\n",
      " [190.         200.         155.        ]\n",
      " [ 98.         190.         200.        ]\n",
      " [220.          98.         190.        ]\n",
      " [383.9        220.          98.        ]\n",
      " [ 84.99       383.9        220.        ]\n",
      " [381.          84.99       383.9       ]\n",
      " [220.         381.          84.99      ]\n",
      " [185.12       220.         381.        ]\n",
      " [286.5        185.12       220.        ]\n",
      " [400.         286.5        185.12      ]\n",
      " [189.68       400.         286.5       ]\n",
      " [350.         189.68       400.        ]\n",
      " [286.5        350.         189.68      ]\n",
      " [480.8        286.5        350.        ]\n",
      " [185.         480.8        286.5       ]\n",
      " [202.         185.         480.8       ]\n",
      " [589.9        202.         185.        ]\n",
      " [210.         589.9        202.        ]\n",
      " [202.         210.         589.9       ]\n",
      " [ 99.86       202.         210.        ]\n",
      " [237.          99.86       202.        ]\n",
      " [220.         237.          99.86      ]\n",
      " [202.         220.         237.        ]\n",
      " [210.         202.         220.        ]\n",
      " [455.         210.         202.        ]\n",
      " [145.         455.         210.        ]\n",
      " [614.         145.         455.        ]\n",
      " [202.         614.         145.        ]\n",
      " [102.46       202.         614.        ]\n",
      " [372.         102.46       202.        ]\n",
      " [237.         372.         102.46      ]\n",
      " [210.         237.         372.        ]\n",
      " [205.         210.         237.        ]\n",
      " [291.         205.         210.        ]\n",
      " [210.         291.         205.        ]\n",
      " [191.2667     210.         291.        ]\n",
      " [185.         191.2667     210.        ]\n",
      " [185.         185.         191.2667    ]\n",
      " [ 84.95       185.         185.        ]\n",
      " [218.          84.95       185.        ]\n",
      " [178.         218.          84.95      ]\n",
      " [383.21       178.         218.        ]\n",
      " [218.         383.21       178.        ]\n",
      " [399.1805     218.         383.21      ]\n",
      " [391.89       399.1805     218.        ]\n",
      " [194.2        391.89       399.1805    ]\n",
      " [185.         194.2        391.89      ]\n",
      " [341.16       185.         194.2       ]\n",
      " [348.02177419 341.16       185.        ]\n",
      " [123.7        348.02177419 341.16      ]\n",
      " [218.         123.7        348.02177419]\n",
      " [136.21       218.         123.7       ]\n",
      " [107.9        136.21       218.        ]\n",
      " [380.51       107.9        136.21      ]\n",
      " [141.         380.51       107.9       ]\n",
      " [168.49       141.         380.51      ]\n",
      " [117.29       168.49       141.        ]\n",
      " [379.214      117.29       168.49      ]\n",
      " [194.3        379.214      117.29      ]\n",
      " [210.         194.3        379.214     ]\n",
      " [218.         210.         194.3       ]\n",
      " [179.19       218.         210.        ]\n",
      " [390.         179.19       218.        ]\n",
      " [190.         390.         179.19      ]\n",
      " [205.         190.         390.        ]\n",
      " [265.         205.         190.        ]\n",
      " [180.         265.         205.        ]\n",
      " [204.         180.         265.        ]\n",
      " [194.6        204.         180.        ]\n",
      " [227.85704    194.6        204.        ]\n",
      " [205.         227.85704    194.6       ]\n",
      " [218.         205.         227.85704   ]\n",
      " [238.38       218.         205.        ]\n",
      " [237.07785455 238.38       218.        ]\n",
      " [192.5        237.07785455 238.38      ]\n",
      " [205.         192.5        237.07785455]]\n"
     ]
    }
   ],
   "source": [
    "import numpy as np\n",
    "x1,x2,x3,y=df['Price_LastMonth'],df['Price_2Monthsback'],df['Price_3Monthsback'],df['FOB_Net_Weight']\n",
    "x1,x2,x3,y=np.array(x1),np.array(x2),np.array(x3),np.array(y)\n",
    "x1,x2,x3,y=x1.reshape(-1,1),x2.reshape(-1,1),x3.reshape(-1,1),y.reshape(-1,1)\n",
    "final_x=np.concatenate((x1,x2,x3),axis=1)\n",
    "print(final_x)"
   ]
  },
  {
   "cell_type": "code",
   "execution_count": 10,
   "id": "6600fdea",
   "metadata": {},
   "outputs": [],
   "source": [
    "X_train,X_test,y_train,y_test=final_x[:-30],final_x[-30:],y[:-30],y[-30:]"
   ]
  },
  {
   "cell_type": "code",
   "execution_count": 11,
   "id": "020cba93",
   "metadata": {},
   "outputs": [
    {
     "name": "stderr",
     "output_type": "stream",
     "text": [
      "E:\\Users\\BAGJA\\AppData\\Local\\Temp\\ipykernel_1720\\1977262272.py:1: DataConversionWarning: A column-vector y was passed when a 1d array was expected. Please change the shape of y to (n_samples,), for example using ravel().\n",
      "  model.fit(X_train,y_train)\n"
     ]
    },
    {
     "data": {
      "text/plain": [
       "LinearRegression()"
      ]
     },
     "execution_count": 11,
     "metadata": {},
     "output_type": "execute_result"
    }
   ],
   "source": [
    "model.fit(X_train,y_train)\n",
    "lin_model.fit(X_train,y_train)"
   ]
  },
  {
   "cell_type": "code",
   "execution_count": 12,
   "id": "1fe27b3b",
   "metadata": {},
   "outputs": [
    {
     "data": {
      "text/plain": [
       "0.07231425201172215"
      ]
     },
     "execution_count": 12,
     "metadata": {},
     "output_type": "execute_result"
    }
   ],
   "source": [
    "model.score(X_train, y_train)\n",
    "lin_model.score(X_train, y_train)"
   ]
  },
  {
   "cell_type": "code",
   "execution_count": 13,
   "id": "57a2c41f",
   "metadata": {},
   "outputs": [
    {
     "data": {
      "image/png": "[encoded data removed]",
      "text/plain": [
       "<Figure size 864x576 with 1 Axes>"
      ]
     },
     "metadata": {
      "needs_background": "light"
     },
     "output_type": "display_data"
    },
    {
     "name": "stdout",
     "output_type": "stream",
     "text": [
      "[251.736001   213.87452524 430.88659    322.95508267 305.069736\n",
      " 195.07689746 242.52906456 205.29156008 307.96314054 263.21397\n",
      " 170.4678215  208.56630104 229.19930155 316.081034   253.56992006\n",
      " 194.5350585  223.2015     311.607697   270.750867   224.63250513\n",
      " 172.18983218 238.5898     143.70106222 247.750701   165.59106782\n",
      " 303.20720567 244.92256053 235.891732   196.67697775 269.16953422]\n"
     ]
    },
    {
     "data": {
      "text/plain": [
       "245.2966348910676"
      ]
     },
     "execution_count": 13,
     "metadata": {},
     "output_type": "execute_result"
    }
   ],
   "source": [
    "pred=model.predict(X_test)\n",
    "import matplotlib.pyplot as plt\n",
    "plt.rcParams[\"figure.figsize\"] = (12,8)\n",
    "plt.plot(pred,label='Random_Forest_Predictions')\n",
    "plt.plot(y_test,label='Actual Price') \n",
    "plt.legend(loc=\"upper left\")\n",
    "plt.show()\n",
    "print(pred)\n",
    "pred.mean()"
   ]
  },
  {
   "cell_type": "code",
   "execution_count": 14,
   "id": "31697e97",
   "metadata": {
    "scrolled": false
   },
   "outputs": [
    {
     "data": {
      "image/png": "[encoded data removed]",
      "text/plain": [
       "<Figure size 792x432 with 1 Axes>"
      ]
     },
     "metadata": {
      "needs_background": "light"
     },
     "output_type": "display_data"
    },
    {
     "name": "stdout",
     "output_type": "stream",
     "text": [
      "[[250.71155693]\n",
      " [219.67579868]\n",
      " [241.95995175]\n",
      " [261.67973407]\n",
      " [233.3649785 ]\n",
      " [201.88805664]\n",
      " [205.78842219]\n",
      " [198.98562927]\n",
      " [223.80403344]\n",
      " [239.74149272]\n",
      " [196.72705639]\n",
      " [206.38448195]\n",
      " [227.86255332]\n",
      " [249.52892706]\n",
      " [217.7106261 ]\n",
      " [220.03949876]\n",
      " [225.53492512]\n",
      " [240.87047476]\n",
      " [250.65906593]\n",
      " [218.35229293]\n",
      " [226.27042402]\n",
      " [225.72364595]\n",
      " [213.02965664]\n",
      " [217.65101207]\n",
      " [219.86524117]\n",
      " [223.22670028]\n",
      " [221.88017942]\n",
      " [227.34054821]\n",
      " [228.86327501]\n",
      " [222.44547111]]\n"
     ]
    },
    {
     "data": {
      "text/plain": [
       "225.25219034622572"
      ]
     },
     "execution_count": 14,
     "metadata": {},
     "output_type": "execute_result"
    }
   ],
   "source": [
    "lin_pred=lin_model.predict(X_test)\n",
    "import matplotlib.pyplot as plt\n",
    "plt.rcParams[\"figure.figsize\"] = (11,6)\n",
    "plt.plot(lin_pred,label='Linear_Regression_Predictions')\n",
    "plt.plot(y_test,label='Actual Price')\n",
    "plt.legend(loc=\"upper left\")\n",
    "plt.show()\n",
    "print(lin_pred)\n",
    "lin_pred.mean()"
   ]
  },
  {
   "cell_type": "code",
   "execution_count": 15,
   "id": "399225e1",
   "metadata": {},
   "outputs": [],
   "source": [
    "from sklearn.metrics import mean_squared_error\n",
    "from math import sqrt\n",
    "rmse_rf=sqrt(mean_squared_error(pred,y_test))\n",
    "rmse_lr=sqrt(mean_squared_error(lin_pred,y_test))"
   ]
  },
  {
   "cell_type": "code",
   "execution_count": 16,
   "id": "55f4a4c4",
   "metadata": {},
   "outputs": [
    {
     "name": "stdout",
     "output_type": "stream",
     "text": [
      "Mean Squared Error for Random Forest Model is: 110.58030244644611\n",
      "Mean Squared Error for Linear Regression Model is: 78.36506993212103\n"
     ]
    }
   ],
   "source": [
    "print('Mean Squared Error for Random Forest Model is:',rmse_rf)\n",
    "print('Mean Squared Error for Linear Regression Model is:',rmse_lr)"
   ]
  },
  {
   "cell_type": "code",
   "execution_count": 17,
   "id": "0e5c771c",
   "metadata": {},
   "outputs": [
    {
     "data": {
      "text/plain": [
       "146.8871204141047"
      ]
     },
     "execution_count": 17,
     "metadata": {},
     "output_type": "execute_result"
    }
   ],
   "source": [
    "# Nilai Prediksi - Mean Squared Error = Prediksi paling tepat\n",
    "225.25219034622572-78.36506993212103"
   ]
  },
  {
   "cell_type": "code",
   "execution_count": null,
   "id": "511be5b0",
   "metadata": {},
   "outputs": [],
   "source": []
  },
  {
   "cell_type": "code",
   "execution_count": null,
   "id": "21972317",
   "metadata": {},
   "outputs": [],
   "source": []
  }
 ],
 "metadata": {
  "kernelspec": {
   "display_name": "Python 3 (ipykernel)",
   "language": "python",
   "name": "python3"
  },
  "language_info": {
   "codemirror_mode": {
    "name": "ipython",
    "version": 3
   },
   "file_extension": ".py",
   "mimetype": "text/x-python",
   "name": "python",
   "nbconvert_exporter": "python",
   "pygments_lexer": "ipython3",
   "version": "3.9.10"
  }
 },
 "nbformat": 4,
 "nbformat_minor": 5
}
