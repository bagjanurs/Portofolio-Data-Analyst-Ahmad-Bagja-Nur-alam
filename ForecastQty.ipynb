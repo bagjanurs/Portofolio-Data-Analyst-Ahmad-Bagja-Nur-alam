{
 "cells": [
  {
   "cell_type": "code",
   "execution_count": 1,
   "id": "3ae013be",
   "metadata": {},
   "outputs": [],
   "source": [
    "import pandas as pd\n",
    "df=pd.DataFrame()"
   ]
  },
  {
   "cell_type": "code",
   "execution_count": 2,
   "id": "18ef56c0",
   "metadata": {},
   "outputs": [],
   "source": [
    "df = pd.read_excel('Kompetitorv1.xlsx', 'PTO', usecols=['No', 'Sum_Of_Net_Weight_Kg'])"
   ]
  },
  {
   "cell_type": "code",
   "execution_count": 3,
   "id": "b23e8a63",
   "metadata": {},
   "outputs": [
    {
     "name": "stdout",
     "output_type": "stream",
     "text": [
      "<class 'pandas.core.frame.DataFrame'>\n",
      "RangeIndex: 575 entries, 0 to 574\n",
      "Data columns (total 2 columns):\n",
      " #   Column                Non-Null Count  Dtype         \n",
      "---  ------                --------------  -----         \n",
      " 0   No                    575 non-null    datetime64[ns]\n",
      " 1   Sum_Of_Net_Weight_Kg  575 non-null    float64       \n",
      "dtypes: datetime64[ns](1), float64(1)\n",
      "memory usage: 9.1 KB\n"
     ]
    }
   ],
   "source": [
    "df.info()"
   ]
  },
  {
   "cell_type": "code",
   "execution_count": 4,
   "id": "51a2056a",
   "metadata": {},
   "outputs": [
    {
     "data": {
      "text/html": [
       "<div>\n",
       "<style scoped>\n",
       "    .dataframe tbody tr th:only-of-type {\n",
       "        vertical-align: middle;\n",
       "    }\n",
       "\n",
       "    .dataframe tbody tr th {\n",
       "        vertical-align: top;\n",
       "    }\n",
       "\n",
       "    .dataframe thead th {\n",
       "        text-align: right;\n",
       "    }\n",
       "</style>\n",
       "<table border=\"1\" class=\"dataframe\">\n",
       "  <thead>\n",
       "    <tr style=\"text-align: right;\">\n",
       "      <th></th>\n",
       "      <th>No</th>\n",
       "      <th>Sum_Of_Net_Weight_Kg</th>\n",
       "      <th>Sale_LastMonth</th>\n",
       "      <th>Sale_2Monthsback</th>\n",
       "      <th>Sale_3Monthsback</th>\n",
       "    </tr>\n",
       "  </thead>\n",
       "  <tbody>\n",
       "    <tr>\n",
       "      <th>0</th>\n",
       "      <td>2020-09-04 08:00:00</td>\n",
       "      <td>1260.0</td>\n",
       "      <td>NaN</td>\n",
       "      <td>NaN</td>\n",
       "      <td>NaN</td>\n",
       "    </tr>\n",
       "    <tr>\n",
       "      <th>1</th>\n",
       "      <td>2020-09-07 08:00:00</td>\n",
       "      <td>2000.0</td>\n",
       "      <td>1260.0</td>\n",
       "      <td>NaN</td>\n",
       "      <td>NaN</td>\n",
       "    </tr>\n",
       "    <tr>\n",
       "      <th>2</th>\n",
       "      <td>2020-09-07 08:00:00</td>\n",
       "      <td>600.0</td>\n",
       "      <td>2000.0</td>\n",
       "      <td>1260.0</td>\n",
       "      <td>NaN</td>\n",
       "    </tr>\n",
       "    <tr>\n",
       "      <th>3</th>\n",
       "      <td>2020-09-07 08:00:00</td>\n",
       "      <td>200.0</td>\n",
       "      <td>600.0</td>\n",
       "      <td>2000.0</td>\n",
       "      <td>1260.0</td>\n",
       "    </tr>\n",
       "    <tr>\n",
       "      <th>4</th>\n",
       "      <td>2020-09-12 08:00:00</td>\n",
       "      <td>1000.0</td>\n",
       "      <td>200.0</td>\n",
       "      <td>600.0</td>\n",
       "      <td>2000.0</td>\n",
       "    </tr>\n",
       "    <tr>\n",
       "      <th>...</th>\n",
       "      <td>...</td>\n",
       "      <td>...</td>\n",
       "      <td>...</td>\n",
       "      <td>...</td>\n",
       "      <td>...</td>\n",
       "    </tr>\n",
       "    <tr>\n",
       "      <th>570</th>\n",
       "      <td>2022-02-11 08:00:00</td>\n",
       "      <td>2400.0</td>\n",
       "      <td>8000.0</td>\n",
       "      <td>3000.0</td>\n",
       "      <td>3000.0</td>\n",
       "    </tr>\n",
       "    <tr>\n",
       "      <th>571</th>\n",
       "      <td>2022-02-21 08:00:00</td>\n",
       "      <td>6000.0</td>\n",
       "      <td>2400.0</td>\n",
       "      <td>8000.0</td>\n",
       "      <td>3000.0</td>\n",
       "    </tr>\n",
       "    <tr>\n",
       "      <th>572</th>\n",
       "      <td>2022-02-22 08:00:00</td>\n",
       "      <td>600.0</td>\n",
       "      <td>6000.0</td>\n",
       "      <td>2400.0</td>\n",
       "      <td>8000.0</td>\n",
       "    </tr>\n",
       "    <tr>\n",
       "      <th>573</th>\n",
       "      <td>2022-02-24 08:00:00</td>\n",
       "      <td>1000.0</td>\n",
       "      <td>600.0</td>\n",
       "      <td>6000.0</td>\n",
       "      <td>2400.0</td>\n",
       "    </tr>\n",
       "    <tr>\n",
       "      <th>574</th>\n",
       "      <td>2022-02-28 08:00:00</td>\n",
       "      <td>7500.0</td>\n",
       "      <td>1000.0</td>\n",
       "      <td>600.0</td>\n",
       "      <td>6000.0</td>\n",
       "    </tr>\n",
       "  </tbody>\n",
       "</table>\n",
       "<p>575 rows × 5 columns</p>\n",
       "</div>"
      ],
      "text/plain": [
       "                     No  Sum_Of_Net_Weight_Kg  Sale_LastMonth  \\\n",
       "0   2020-09-04 08:00:00                1260.0             NaN   \n",
       "1   2020-09-07 08:00:00                2000.0          1260.0   \n",
       "2   2020-09-07 08:00:00                 600.0          2000.0   \n",
       "3   2020-09-07 08:00:00                 200.0           600.0   \n",
       "4   2020-09-12 08:00:00                1000.0           200.0   \n",
       "..                  ...                   ...             ...   \n",
       "570 2022-02-11 08:00:00                2400.0          8000.0   \n",
       "571 2022-02-21 08:00:00                6000.0          2400.0   \n",
       "572 2022-02-22 08:00:00                 600.0          6000.0   \n",
       "573 2022-02-24 08:00:00                1000.0           600.0   \n",
       "574 2022-02-28 08:00:00                7500.0          1000.0   \n",
       "\n",
       "     Sale_2Monthsback  Sale_3Monthsback  \n",
       "0                 NaN               NaN  \n",
       "1                 NaN               NaN  \n",
       "2              1260.0               NaN  \n",
       "3              2000.0            1260.0  \n",
       "4               600.0            2000.0  \n",
       "..                ...               ...  \n",
       "570            3000.0            3000.0  \n",
       "571            8000.0            3000.0  \n",
       "572            2400.0            8000.0  \n",
       "573            6000.0            2400.0  \n",
       "574             600.0            6000.0  \n",
       "\n",
       "[575 rows x 5 columns]"
      ]
     },
     "execution_count": 4,
     "metadata": {},
     "output_type": "execute_result"
    }
   ],
   "source": [
    "df['Sale_LastMonth']=df['Sum_Of_Net_Weight_Kg'].shift(+1)\n",
    "df['Sale_2Monthsback']=df['Sum_Of_Net_Weight_Kg'].shift(+2)\n",
    "df['Sale_3Monthsback']=df['Sum_Of_Net_Weight_Kg'].shift(+3)\n",
    "df"
   ]
  },
  {
   "cell_type": "code",
   "execution_count": 5,
   "id": "e6101042",
   "metadata": {},
   "outputs": [
    {
     "data": {
      "text/html": [
       "<div>\n",
       "<style scoped>\n",
       "    .dataframe tbody tr th:only-of-type {\n",
       "        vertical-align: middle;\n",
       "    }\n",
       "\n",
       "    .dataframe tbody tr th {\n",
       "        vertical-align: top;\n",
       "    }\n",
       "\n",
       "    .dataframe thead th {\n",
       "        text-align: right;\n",
       "    }\n",
       "</style>\n",
       "<table border=\"1\" class=\"dataframe\">\n",
       "  <thead>\n",
       "    <tr style=\"text-align: right;\">\n",
       "      <th></th>\n",
       "      <th>No</th>\n",
       "      <th>Sum_Of_Net_Weight_Kg</th>\n",
       "      <th>Sale_LastMonth</th>\n",
       "      <th>Sale_2Monthsback</th>\n",
       "      <th>Sale_3Monthsback</th>\n",
       "    </tr>\n",
       "  </thead>\n",
       "  <tbody>\n",
       "    <tr>\n",
       "      <th>3</th>\n",
       "      <td>2020-09-07 08:00:00</td>\n",
       "      <td>200.0</td>\n",
       "      <td>600.0</td>\n",
       "      <td>2000.0</td>\n",
       "      <td>1260.0</td>\n",
       "    </tr>\n",
       "    <tr>\n",
       "      <th>4</th>\n",
       "      <td>2020-09-12 08:00:00</td>\n",
       "      <td>1000.0</td>\n",
       "      <td>200.0</td>\n",
       "      <td>600.0</td>\n",
       "      <td>2000.0</td>\n",
       "    </tr>\n",
       "    <tr>\n",
       "      <th>5</th>\n",
       "      <td>2020-09-15 08:00:00</td>\n",
       "      <td>4000.0</td>\n",
       "      <td>1000.0</td>\n",
       "      <td>200.0</td>\n",
       "      <td>600.0</td>\n",
       "    </tr>\n",
       "    <tr>\n",
       "      <th>6</th>\n",
       "      <td>2020-09-18 08:00:00</td>\n",
       "      <td>2000.0</td>\n",
       "      <td>4000.0</td>\n",
       "      <td>1000.0</td>\n",
       "      <td>200.0</td>\n",
       "    </tr>\n",
       "    <tr>\n",
       "      <th>7</th>\n",
       "      <td>2020-09-18 08:00:00</td>\n",
       "      <td>2000.0</td>\n",
       "      <td>2000.0</td>\n",
       "      <td>4000.0</td>\n",
       "      <td>1000.0</td>\n",
       "    </tr>\n",
       "    <tr>\n",
       "      <th>...</th>\n",
       "      <td>...</td>\n",
       "      <td>...</td>\n",
       "      <td>...</td>\n",
       "      <td>...</td>\n",
       "      <td>...</td>\n",
       "    </tr>\n",
       "    <tr>\n",
       "      <th>570</th>\n",
       "      <td>2022-02-11 08:00:00</td>\n",
       "      <td>2400.0</td>\n",
       "      <td>8000.0</td>\n",
       "      <td>3000.0</td>\n",
       "      <td>3000.0</td>\n",
       "    </tr>\n",
       "    <tr>\n",
       "      <th>571</th>\n",
       "      <td>2022-02-21 08:00:00</td>\n",
       "      <td>6000.0</td>\n",
       "      <td>2400.0</td>\n",
       "      <td>8000.0</td>\n",
       "      <td>3000.0</td>\n",
       "    </tr>\n",
       "    <tr>\n",
       "      <th>572</th>\n",
       "      <td>2022-02-22 08:00:00</td>\n",
       "      <td>600.0</td>\n",
       "      <td>6000.0</td>\n",
       "      <td>2400.0</td>\n",
       "      <td>8000.0</td>\n",
       "    </tr>\n",
       "    <tr>\n",
       "      <th>573</th>\n",
       "      <td>2022-02-24 08:00:00</td>\n",
       "      <td>1000.0</td>\n",
       "      <td>600.0</td>\n",
       "      <td>6000.0</td>\n",
       "      <td>2400.0</td>\n",
       "    </tr>\n",
       "    <tr>\n",
       "      <th>574</th>\n",
       "      <td>2022-02-28 08:00:00</td>\n",
       "      <td>7500.0</td>\n",
       "      <td>1000.0</td>\n",
       "      <td>600.0</td>\n",
       "      <td>6000.0</td>\n",
       "    </tr>\n",
       "  </tbody>\n",
       "</table>\n",
       "<p>572 rows × 5 columns</p>\n",
       "</div>"
      ],
      "text/plain": [
       "                     No  Sum_Of_Net_Weight_Kg  Sale_LastMonth  \\\n",
       "3   2020-09-07 08:00:00                 200.0           600.0   \n",
       "4   2020-09-12 08:00:00                1000.0           200.0   \n",
       "5   2020-09-15 08:00:00                4000.0          1000.0   \n",
       "6   2020-09-18 08:00:00                2000.0          4000.0   \n",
       "7   2020-09-18 08:00:00                2000.0          2000.0   \n",
       "..                  ...                   ...             ...   \n",
       "570 2022-02-11 08:00:00                2400.0          8000.0   \n",
       "571 2022-02-21 08:00:00                6000.0          2400.0   \n",
       "572 2022-02-22 08:00:00                 600.0          6000.0   \n",
       "573 2022-02-24 08:00:00                1000.0           600.0   \n",
       "574 2022-02-28 08:00:00                7500.0          1000.0   \n",
       "\n",
       "     Sale_2Monthsback  Sale_3Monthsback  \n",
       "3              2000.0            1260.0  \n",
       "4               600.0            2000.0  \n",
       "5               200.0             600.0  \n",
       "6              1000.0             200.0  \n",
       "7              4000.0            1000.0  \n",
       "..                ...               ...  \n",
       "570            3000.0            3000.0  \n",
       "571            8000.0            3000.0  \n",
       "572            2400.0            8000.0  \n",
       "573            6000.0            2400.0  \n",
       "574             600.0            6000.0  \n",
       "\n",
       "[572 rows x 5 columns]"
      ]
     },
     "execution_count": 5,
     "metadata": {},
     "output_type": "execute_result"
    }
   ],
   "source": [
    "df=df.dropna()\n",
    "df"
   ]
  },
  {
   "cell_type": "code",
   "execution_count": 6,
   "id": "d4d6ecdb",
   "metadata": {},
   "outputs": [
    {
     "data": {
      "text/html": [
       "<div>\n",
       "<style scoped>\n",
       "    .dataframe tbody tr th:only-of-type {\n",
       "        vertical-align: middle;\n",
       "    }\n",
       "\n",
       "    .dataframe tbody tr th {\n",
       "        vertical-align: top;\n",
       "    }\n",
       "\n",
       "    .dataframe thead th {\n",
       "        text-align: right;\n",
       "    }\n",
       "</style>\n",
       "<table border=\"1\" class=\"dataframe\">\n",
       "  <thead>\n",
       "    <tr style=\"text-align: right;\">\n",
       "      <th></th>\n",
       "      <th>Sum_Of_Net_Weight_Kg</th>\n",
       "      <th>Sale_LastMonth</th>\n",
       "      <th>Sale_2Monthsback</th>\n",
       "      <th>Sale_3Monthsback</th>\n",
       "    </tr>\n",
       "  </thead>\n",
       "  <tbody>\n",
       "    <tr>\n",
       "      <th>count</th>\n",
       "      <td>572.000000</td>\n",
       "      <td>572.000000</td>\n",
       "      <td>572.000000</td>\n",
       "      <td>572.000000</td>\n",
       "    </tr>\n",
       "    <tr>\n",
       "      <th>mean</th>\n",
       "      <td>2699.544143</td>\n",
       "      <td>2687.481206</td>\n",
       "      <td>2689.229458</td>\n",
       "      <td>2690.383304</td>\n",
       "    </tr>\n",
       "    <tr>\n",
       "      <th>std</th>\n",
       "      <td>3019.837026</td>\n",
       "      <td>3014.404071</td>\n",
       "      <td>3013.713580</td>\n",
       "      <td>3013.038555</td>\n",
       "    </tr>\n",
       "    <tr>\n",
       "      <th>min</th>\n",
       "      <td>28.000000</td>\n",
       "      <td>28.000000</td>\n",
       "      <td>28.000000</td>\n",
       "      <td>28.000000</td>\n",
       "    </tr>\n",
       "    <tr>\n",
       "      <th>25%</th>\n",
       "      <td>800.000000</td>\n",
       "      <td>800.000000</td>\n",
       "      <td>800.000000</td>\n",
       "      <td>800.000000</td>\n",
       "    </tr>\n",
       "    <tr>\n",
       "      <th>50%</th>\n",
       "      <td>1800.000000</td>\n",
       "      <td>1800.000000</td>\n",
       "      <td>1800.000000</td>\n",
       "      <td>1800.000000</td>\n",
       "    </tr>\n",
       "    <tr>\n",
       "      <th>75%</th>\n",
       "      <td>3425.000000</td>\n",
       "      <td>3400.000000</td>\n",
       "      <td>3400.000000</td>\n",
       "      <td>3400.000000</td>\n",
       "    </tr>\n",
       "    <tr>\n",
       "      <th>max</th>\n",
       "      <td>16000.000000</td>\n",
       "      <td>16000.000000</td>\n",
       "      <td>16000.000000</td>\n",
       "      <td>16000.000000</td>\n",
       "    </tr>\n",
       "  </tbody>\n",
       "</table>\n",
       "</div>"
      ],
      "text/plain": [
       "       Sum_Of_Net_Weight_Kg  Sale_LastMonth  Sale_2Monthsback  \\\n",
       "count            572.000000      572.000000        572.000000   \n",
       "mean            2699.544143     2687.481206       2689.229458   \n",
       "std             3019.837026     3014.404071       3013.713580   \n",
       "min               28.000000       28.000000         28.000000   \n",
       "25%              800.000000      800.000000        800.000000   \n",
       "50%             1800.000000     1800.000000       1800.000000   \n",
       "75%             3425.000000     3400.000000       3400.000000   \n",
       "max            16000.000000    16000.000000      16000.000000   \n",
       "\n",
       "       Sale_3Monthsback  \n",
       "count        572.000000  \n",
       "mean        2690.383304  \n",
       "std         3013.038555  \n",
       "min           28.000000  \n",
       "25%          800.000000  \n",
       "50%         1800.000000  \n",
       "75%         3400.000000  \n",
       "max        16000.000000  "
      ]
     },
     "execution_count": 6,
     "metadata": {},
     "output_type": "execute_result"
    }
   ],
   "source": [
    "df.describe()"
   ]
  },
  {
   "cell_type": "code",
   "execution_count": 7,
   "id": "fc4ba397",
   "metadata": {},
   "outputs": [],
   "source": [
    "from sklearn.linear_model import LinearRegression\n",
    "lin_model=LinearRegression()"
   ]
  },
  {
   "cell_type": "code",
   "execution_count": 8,
   "id": "3e3caa41",
   "metadata": {},
   "outputs": [],
   "source": [
    "from sklearn.ensemble import RandomForestRegressor\n",
    "model=RandomForestRegressor(n_estimators=100, max_features=3, random_state=1)"
   ]
  },
  {
   "cell_type": "code",
   "execution_count": 9,
   "id": "4bf929f5",
   "metadata": {},
   "outputs": [
    {
     "name": "stdout",
     "output_type": "stream",
     "text": [
      "[[ 600. 2000. 1260.]\n",
      " [ 200.  600. 2000.]\n",
      " [1000.  200.  600.]\n",
      " ...\n",
      " [6000. 2400. 8000.]\n",
      " [ 600. 6000. 2400.]\n",
      " [1000.  600. 6000.]]\n"
     ]
    }
   ],
   "source": [
    "import numpy as np\n",
    "x1,x2,x3,y=df['Sale_LastMonth'],df['Sale_2Monthsback'],df['Sale_3Monthsback'],df['Sum_Of_Net_Weight_Kg']\n",
    "x1,x2,x3,y=np.array(x1),np.array(x2),np.array(x3),np.array(y)\n",
    "x1,x2,x3,y=x1.reshape(-1,1),x2.reshape(-1,1),x3.reshape(-1,1),y.reshape(-1,1)\n",
    "final_x=np.concatenate((x1,x2,x3),axis=1)\n",
    "print(final_x)"
   ]
  },
  {
   "cell_type": "code",
   "execution_count": 10,
   "id": "423495c9",
   "metadata": {},
   "outputs": [],
   "source": [
    "# Prediksi Untuk 3 Bulan Kedepan\n",
    "X_train,X_test,y_train,y_test=final_x[:-3],final_x[-3:],y[:-3],y[-3:]"
   ]
  },
  {
   "cell_type": "code",
   "execution_count": 11,
   "id": "fafa94a2",
   "metadata": {},
   "outputs": [
    {
     "name": "stderr",
     "output_type": "stream",
     "text": [
      "E:\\Users\\BAGJA\\AppData\\Local\\Temp\\ipykernel_3420\\1977262272.py:1: DataConversionWarning: A column-vector y was passed when a 1d array was expected. Please change the shape of y to (n_samples,), for example using ravel().\n",
      "  model.fit(X_train,y_train)\n"
     ]
    },
    {
     "data": {
      "text/plain": [
       "LinearRegression()"
      ]
     },
     "execution_count": 11,
     "metadata": {},
     "output_type": "execute_result"
    }
   ],
   "source": [
    "model.fit(X_train,y_train)\n",
    "lin_model.fit(X_train,y_train)"
   ]
  },
  {
   "cell_type": "code",
   "execution_count": 12,
   "id": "1fcc7b1a",
   "metadata": {},
   "outputs": [
    {
     "data": {
      "image/png": "[encoded data removed]",
      "text/plain": [
       "<Figure size 864x576 with 1 Axes>"
      ]
     },
     "metadata": {
      "needs_background": "light"
     },
     "output_type": "display_data"
    },
    {
     "name": "stdout",
     "output_type": "stream",
     "text": [
      "[3076.7  3494.75 4067.9 ]\n"
     ]
    },
    {
     "data": {
      "text/plain": [
       "10639.35"
      ]
     },
     "execution_count": 12,
     "metadata": {},
     "output_type": "execute_result"
    }
   ],
   "source": [
    "pred=model.predict(X_test)\n",
    "import matplotlib.pyplot as plt\n",
    "plt.rcParams[\"figure.figsize\"] = (12,8)\n",
    "plt.plot(pred,label='Random_Forest_Predictions')\n",
    "plt.plot(y_test,label='Actual Quantity') \n",
    "plt.legend(loc=\"upper left\")\n",
    "plt.show()\n",
    "print(pred)\n",
    "pred.sum()"
   ]
  },
  {
   "cell_type": "code",
   "execution_count": 13,
   "id": "08b11c83",
   "metadata": {},
   "outputs": [
    {
     "data": {
      "text/plain": [
       "154.270575"
      ]
     },
     "execution_count": 13,
     "metadata": {},
     "output_type": "execute_result"
    }
   ],
   "source": [
    "# PT.SIL Menguasai Pasar Sebesar 1,45%\n",
    "10639.35*0.0145"
   ]
  },
  {
   "cell_type": "code",
   "execution_count": 14,
   "id": "9b6da3d5",
   "metadata": {},
   "outputs": [
    {
     "data": {
      "text/plain": [
       "51.423525000000005"
      ]
     },
     "execution_count": 14,
     "metadata": {},
     "output_type": "execute_result"
    }
   ],
   "source": [
    "# Hasil kali penguasaan pasar dibagi menjadi jumlah target prediksi\n",
    "154.270575/3"
   ]
  },
  {
   "cell_type": "code",
   "execution_count": 15,
   "id": "7ad00ea4",
   "metadata": {
    "scrolled": false
   },
   "outputs": [
    {
     "data": {
      "image/png": "[encoded data removed]",
      "text/plain": [
       "<Figure size 792x432 with 1 Axes>"
      ]
     },
     "metadata": {
      "needs_background": "light"
     },
     "output_type": "display_data"
    },
    {
     "name": "stdout",
     "output_type": "stream",
     "text": [
      "[[2615.26985126]\n",
      " [2614.10652934]\n",
      " [2397.00586443]]\n"
     ]
    },
    {
     "data": {
      "text/plain": [
       "7626.382245031493"
      ]
     },
     "execution_count": 15,
     "metadata": {},
     "output_type": "execute_result"
    }
   ],
   "source": [
    "lin_pred=lin_model.predict(X_test)\n",
    "import matplotlib.pyplot as plt\n",
    "plt.rcParams[\"figure.figsize\"] = (11,6)\n",
    "plt.plot(lin_pred,label='Linear_Regression_Predictions')\n",
    "plt.plot(y_test,label='Actual Quantity')\n",
    "plt.legend(loc=\"upper left\")\n",
    "plt.show()\n",
    "print(lin_pred)\n",
    "lin_pred.sum()"
   ]
  },
  {
   "cell_type": "code",
   "execution_count": 16,
   "id": "245ce215",
   "metadata": {},
   "outputs": [
    {
     "data": {
      "text/plain": [
       "110.58254255295665"
      ]
     },
     "execution_count": 16,
     "metadata": {},
     "output_type": "execute_result"
    }
   ],
   "source": [
    "# PT.SIL Menguasai Pasar Sebesar 1,45%\n",
    "7626.382245031493*0.0145"
   ]
  },
  {
   "cell_type": "code",
   "execution_count": 17,
   "id": "10c38d8e",
   "metadata": {},
   "outputs": [
    {
     "data": {
      "text/plain": [
       "36.86084751765222"
      ]
     },
     "execution_count": 17,
     "metadata": {},
     "output_type": "execute_result"
    }
   ],
   "source": [
    "# Hasil kali penguasaan pasar dibagi menjadi jumlah target prediksi\n",
    "110.58254255295665/3"
   ]
  },
  {
   "cell_type": "code",
   "execution_count": 18,
   "id": "c0740a16",
   "metadata": {},
   "outputs": [],
   "source": [
    "from sklearn.metrics import mean_squared_error\n",
    "from math import sqrt\n",
    "rmse_rf=sqrt(mean_squared_error(pred,y_test))\n",
    "rmse_lr=sqrt(mean_squared_error(lin_pred,y_test))"
   ]
  },
  {
   "cell_type": "code",
   "execution_count": 19,
   "id": "993c0bcf",
   "metadata": {},
   "outputs": [
    {
     "name": "stdout",
     "output_type": "stream",
     "text": [
      "Mean Squared Error for Random Forest Model is: 2836.496128588932\n",
      "Mean Squared Error for Linear Regression Model is: 3301.8783345798693\n"
     ]
    }
   ],
   "source": [
    "print('Mean Squared Error for Random Forest Model is:',rmse_rf)\n",
    "print('Mean Squared Error for Linear Regression Model is:',rmse_lr)"
   ]
  }
 ],
 "metadata": {
  "kernelspec": {
   "display_name": "Python 3 (ipykernel)",
   "language": "python",
   "name": "python3"
  },
  "language_info": {
   "codemirror_mode": {
    "name": "ipython",
    "version": 3
   },
   "file_extension": ".py",
   "mimetype": "text/x-python",
   "name": "python",
   "nbconvert_exporter": "python",
   "pygments_lexer": "ipython3",
   "version": "3.9.10"
  }
 },
 "nbformat": 4,
 "nbformat_minor": 5
}
