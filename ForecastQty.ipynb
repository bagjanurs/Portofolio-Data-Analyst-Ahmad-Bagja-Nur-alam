{
 "cells": [
  {
   "cell_type": "code",
   "execution_count": 1,
   "id": "3ae013be",
   "metadata": {},
   "outputs": [],
   "source": [
    "import pandas as pd\n",
    "df=pd.DataFrame()"
   ]
  },
  {
   "cell_type": "code",
   "execution_count": 2,
   "id": "18ef56c0",
   "metadata": {},
   "outputs": [],
   "source": [
    "df = pd.read_excel('Kompetitorv1.xlsx', 'PTO', usecols=['No', 'Sum_Of_Net_Weight_Kg'])"
   ]
  },
  {
   "cell_type": "code",
   "execution_count": 3,
   "id": "b23e8a63",
   "metadata": {},
   "outputs": [
    {
     "name": "stdout",
     "output_type": "stream",
     "text": [
      "<class 'pandas.core.frame.DataFrame'>\n",
      "RangeIndex: 429 entries, 0 to 428\n",
      "Data columns (total 2 columns):\n",
      " #   Column                Non-Null Count  Dtype         \n",
      "---  ------                --------------  -----         \n",
      " 0   No                    429 non-null    datetime64[ns]\n",
      " 1   Sum_Of_Net_Weight_Kg  429 non-null    float64       \n",
      "dtypes: datetime64[ns](1), float64(1)\n",
      "memory usage: 6.8 KB\n"
     ]
    }
   ],
   "source": [
    "df.info()"
   ]
  },
  {
   "cell_type": "code",
   "execution_count": 4,
   "id": "51a2056a",
   "metadata": {},
   "outputs": [
    {
     "data": {
      "text/html": [
       "<div>\n",
       "<style scoped>\n",
       "    .dataframe tbody tr th:only-of-type {\n",
       "        vertical-align: middle;\n",
       "    }\n",
       "\n",
       "    .dataframe tbody tr th {\n",
       "        vertical-align: top;\n",
       "    }\n",
       "\n",
       "    .dataframe thead th {\n",
       "        text-align: right;\n",
       "    }\n",
       "</style>\n",
       "<table border=\"1\" class=\"dataframe\">\n",
       "  <thead>\n",
       "    <tr style=\"text-align: right;\">\n",
       "      <th></th>\n",
       "      <th>No</th>\n",
       "      <th>Sum_Of_Net_Weight_Kg</th>\n",
       "      <th>Sale_LastMonth</th>\n",
       "      <th>Sale_2Monthsback</th>\n",
       "      <th>Sale_3Monthsback</th>\n",
       "    </tr>\n",
       "  </thead>\n",
       "  <tbody>\n",
       "    <tr>\n",
       "      <th>0</th>\n",
       "      <td>2021-01-04 08:00:00</td>\n",
       "      <td>2000.0</td>\n",
       "      <td>NaN</td>\n",
       "      <td>NaN</td>\n",
       "      <td>NaN</td>\n",
       "    </tr>\n",
       "    <tr>\n",
       "      <th>1</th>\n",
       "      <td>2021-01-05 08:00:00</td>\n",
       "      <td>600.0</td>\n",
       "      <td>2000.0</td>\n",
       "      <td>NaN</td>\n",
       "      <td>NaN</td>\n",
       "    </tr>\n",
       "    <tr>\n",
       "      <th>2</th>\n",
       "      <td>2021-01-05 08:00:00</td>\n",
       "      <td>2400.0</td>\n",
       "      <td>600.0</td>\n",
       "      <td>2000.0</td>\n",
       "      <td>NaN</td>\n",
       "    </tr>\n",
       "    <tr>\n",
       "      <th>3</th>\n",
       "      <td>2021-01-06 08:00:00</td>\n",
       "      <td>1581.5</td>\n",
       "      <td>2400.0</td>\n",
       "      <td>600.0</td>\n",
       "      <td>2000.0</td>\n",
       "    </tr>\n",
       "    <tr>\n",
       "      <th>4</th>\n",
       "      <td>2021-01-07 08:00:00</td>\n",
       "      <td>10000.0</td>\n",
       "      <td>1581.5</td>\n",
       "      <td>2400.0</td>\n",
       "      <td>600.0</td>\n",
       "    </tr>\n",
       "    <tr>\n",
       "      <th>...</th>\n",
       "      <td>...</td>\n",
       "      <td>...</td>\n",
       "      <td>...</td>\n",
       "      <td>...</td>\n",
       "      <td>...</td>\n",
       "    </tr>\n",
       "    <tr>\n",
       "      <th>424</th>\n",
       "      <td>2021-08-13 08:00:00</td>\n",
       "      <td>200.0</td>\n",
       "      <td>1560.0</td>\n",
       "      <td>2000.0</td>\n",
       "      <td>1000.0</td>\n",
       "    </tr>\n",
       "    <tr>\n",
       "      <th>425</th>\n",
       "      <td>2021-08-13 08:00:00</td>\n",
       "      <td>1990.0</td>\n",
       "      <td>200.0</td>\n",
       "      <td>1560.0</td>\n",
       "      <td>2000.0</td>\n",
       "    </tr>\n",
       "    <tr>\n",
       "      <th>426</th>\n",
       "      <td>2021-08-13 08:00:00</td>\n",
       "      <td>210.0</td>\n",
       "      <td>1990.0</td>\n",
       "      <td>200.0</td>\n",
       "      <td>1560.0</td>\n",
       "    </tr>\n",
       "    <tr>\n",
       "      <th>427</th>\n",
       "      <td>2021-08-19 08:00:00</td>\n",
       "      <td>1329.0</td>\n",
       "      <td>210.0</td>\n",
       "      <td>1990.0</td>\n",
       "      <td>200.0</td>\n",
       "    </tr>\n",
       "    <tr>\n",
       "      <th>428</th>\n",
       "      <td>2021-08-25 08:00:00</td>\n",
       "      <td>3000.0</td>\n",
       "      <td>1329.0</td>\n",
       "      <td>210.0</td>\n",
       "      <td>1990.0</td>\n",
       "    </tr>\n",
       "  </tbody>\n",
       "</table>\n",
       "<p>429 rows × 5 columns</p>\n",
       "</div>"
      ],
      "text/plain": [
       "                     No  Sum_Of_Net_Weight_Kg  Sale_LastMonth  \\\n",
       "0   2021-01-04 08:00:00                2000.0             NaN   \n",
       "1   2021-01-05 08:00:00                 600.0          2000.0   \n",
       "2   2021-01-05 08:00:00                2400.0           600.0   \n",
       "3   2021-01-06 08:00:00                1581.5          2400.0   \n",
       "4   2021-01-07 08:00:00               10000.0          1581.5   \n",
       "..                  ...                   ...             ...   \n",
       "424 2021-08-13 08:00:00                 200.0          1560.0   \n",
       "425 2021-08-13 08:00:00                1990.0           200.0   \n",
       "426 2021-08-13 08:00:00                 210.0          1990.0   \n",
       "427 2021-08-19 08:00:00                1329.0           210.0   \n",
       "428 2021-08-25 08:00:00                3000.0          1329.0   \n",
       "\n",
       "     Sale_2Monthsback  Sale_3Monthsback  \n",
       "0                 NaN               NaN  \n",
       "1                 NaN               NaN  \n",
       "2              2000.0               NaN  \n",
       "3               600.0            2000.0  \n",
       "4              2400.0             600.0  \n",
       "..                ...               ...  \n",
       "424            2000.0            1000.0  \n",
       "425            1560.0            2000.0  \n",
       "426             200.0            1560.0  \n",
       "427            1990.0             200.0  \n",
       "428             210.0            1990.0  \n",
       "\n",
       "[429 rows x 5 columns]"
      ]
     },
     "execution_count": 4,
     "metadata": {},
     "output_type": "execute_result"
    }
   ],
   "source": [
    "df['Sale_LastMonth']=df['Sum_Of_Net_Weight_Kg'].shift(+1)\n",
    "df['Sale_2Monthsback']=df['Sum_Of_Net_Weight_Kg'].shift(+2)\n",
    "df['Sale_3Monthsback']=df['Sum_Of_Net_Weight_Kg'].shift(+3)\n",
    "df"
   ]
  },
  {
   "cell_type": "code",
   "execution_count": 5,
   "id": "e6101042",
   "metadata": {},
   "outputs": [
    {
     "data": {
      "text/html": [
       "<div>\n",
       "<style scoped>\n",
       "    .dataframe tbody tr th:only-of-type {\n",
       "        vertical-align: middle;\n",
       "    }\n",
       "\n",
       "    .dataframe tbody tr th {\n",
       "        vertical-align: top;\n",
       "    }\n",
       "\n",
       "    .dataframe thead th {\n",
       "        text-align: right;\n",
       "    }\n",
       "</style>\n",
       "<table border=\"1\" class=\"dataframe\">\n",
       "  <thead>\n",
       "    <tr style=\"text-align: right;\">\n",
       "      <th></th>\n",
       "      <th>No</th>\n",
       "      <th>Sum_Of_Net_Weight_Kg</th>\n",
       "      <th>Sale_LastMonth</th>\n",
       "      <th>Sale_2Monthsback</th>\n",
       "      <th>Sale_3Monthsback</th>\n",
       "    </tr>\n",
       "  </thead>\n",
       "  <tbody>\n",
       "    <tr>\n",
       "      <th>3</th>\n",
       "      <td>2021-01-06 08:00:00</td>\n",
       "      <td>1581.5</td>\n",
       "      <td>2400.0</td>\n",
       "      <td>600.0</td>\n",
       "      <td>2000.0</td>\n",
       "    </tr>\n",
       "    <tr>\n",
       "      <th>4</th>\n",
       "      <td>2021-01-07 08:00:00</td>\n",
       "      <td>10000.0</td>\n",
       "      <td>1581.5</td>\n",
       "      <td>2400.0</td>\n",
       "      <td>600.0</td>\n",
       "    </tr>\n",
       "    <tr>\n",
       "      <th>5</th>\n",
       "      <td>2021-01-07 08:00:00</td>\n",
       "      <td>1000.0</td>\n",
       "      <td>10000.0</td>\n",
       "      <td>1581.5</td>\n",
       "      <td>2400.0</td>\n",
       "    </tr>\n",
       "    <tr>\n",
       "      <th>6</th>\n",
       "      <td>2021-01-07 08:00:00</td>\n",
       "      <td>2000.0</td>\n",
       "      <td>1000.0</td>\n",
       "      <td>10000.0</td>\n",
       "      <td>1581.5</td>\n",
       "    </tr>\n",
       "    <tr>\n",
       "      <th>7</th>\n",
       "      <td>2021-01-08 08:00:00</td>\n",
       "      <td>2340.0</td>\n",
       "      <td>2000.0</td>\n",
       "      <td>1000.0</td>\n",
       "      <td>10000.0</td>\n",
       "    </tr>\n",
       "    <tr>\n",
       "      <th>...</th>\n",
       "      <td>...</td>\n",
       "      <td>...</td>\n",
       "      <td>...</td>\n",
       "      <td>...</td>\n",
       "      <td>...</td>\n",
       "    </tr>\n",
       "    <tr>\n",
       "      <th>424</th>\n",
       "      <td>2021-08-13 08:00:00</td>\n",
       "      <td>200.0</td>\n",
       "      <td>1560.0</td>\n",
       "      <td>2000.0</td>\n",
       "      <td>1000.0</td>\n",
       "    </tr>\n",
       "    <tr>\n",
       "      <th>425</th>\n",
       "      <td>2021-08-13 08:00:00</td>\n",
       "      <td>1990.0</td>\n",
       "      <td>200.0</td>\n",
       "      <td>1560.0</td>\n",
       "      <td>2000.0</td>\n",
       "    </tr>\n",
       "    <tr>\n",
       "      <th>426</th>\n",
       "      <td>2021-08-13 08:00:00</td>\n",
       "      <td>210.0</td>\n",
       "      <td>1990.0</td>\n",
       "      <td>200.0</td>\n",
       "      <td>1560.0</td>\n",
       "    </tr>\n",
       "    <tr>\n",
       "      <th>427</th>\n",
       "      <td>2021-08-19 08:00:00</td>\n",
       "      <td>1329.0</td>\n",
       "      <td>210.0</td>\n",
       "      <td>1990.0</td>\n",
       "      <td>200.0</td>\n",
       "    </tr>\n",
       "    <tr>\n",
       "      <th>428</th>\n",
       "      <td>2021-08-25 08:00:00</td>\n",
       "      <td>3000.0</td>\n",
       "      <td>1329.0</td>\n",
       "      <td>210.0</td>\n",
       "      <td>1990.0</td>\n",
       "    </tr>\n",
       "  </tbody>\n",
       "</table>\n",
       "<p>426 rows × 5 columns</p>\n",
       "</div>"
      ],
      "text/plain": [
       "                     No  Sum_Of_Net_Weight_Kg  Sale_LastMonth  \\\n",
       "3   2021-01-06 08:00:00                1581.5          2400.0   \n",
       "4   2021-01-07 08:00:00               10000.0          1581.5   \n",
       "5   2021-01-07 08:00:00                1000.0         10000.0   \n",
       "6   2021-01-07 08:00:00                2000.0          1000.0   \n",
       "7   2021-01-08 08:00:00                2340.0          2000.0   \n",
       "..                  ...                   ...             ...   \n",
       "424 2021-08-13 08:00:00                 200.0          1560.0   \n",
       "425 2021-08-13 08:00:00                1990.0           200.0   \n",
       "426 2021-08-13 08:00:00                 210.0          1990.0   \n",
       "427 2021-08-19 08:00:00                1329.0           210.0   \n",
       "428 2021-08-25 08:00:00                3000.0          1329.0   \n",
       "\n",
       "     Sale_2Monthsback  Sale_3Monthsback  \n",
       "3               600.0            2000.0  \n",
       "4              2400.0             600.0  \n",
       "5              1581.5            2400.0  \n",
       "6             10000.0            1581.5  \n",
       "7              1000.0           10000.0  \n",
       "..                ...               ...  \n",
       "424            2000.0            1000.0  \n",
       "425            1560.0            2000.0  \n",
       "426             200.0            1560.0  \n",
       "427            1990.0             200.0  \n",
       "428             210.0            1990.0  \n",
       "\n",
       "[426 rows x 5 columns]"
      ]
     },
     "execution_count": 5,
     "metadata": {},
     "output_type": "execute_result"
    }
   ],
   "source": [
    "df=df.dropna()\n",
    "df"
   ]
  },
  {
   "cell_type": "code",
   "execution_count": 6,
   "id": "d4d6ecdb",
   "metadata": {},
   "outputs": [
    {
     "data": {
      "text/html": [
       "<div>\n",
       "<style scoped>\n",
       "    .dataframe tbody tr th:only-of-type {\n",
       "        vertical-align: middle;\n",
       "    }\n",
       "\n",
       "    .dataframe tbody tr th {\n",
       "        vertical-align: top;\n",
       "    }\n",
       "\n",
       "    .dataframe thead th {\n",
       "        text-align: right;\n",
       "    }\n",
       "</style>\n",
       "<table border=\"1\" class=\"dataframe\">\n",
       "  <thead>\n",
       "    <tr style=\"text-align: right;\">\n",
       "      <th></th>\n",
       "      <th>Sum_Of_Net_Weight_Kg</th>\n",
       "      <th>Sale_LastMonth</th>\n",
       "      <th>Sale_2Monthsback</th>\n",
       "      <th>Sale_3Monthsback</th>\n",
       "    </tr>\n",
       "  </thead>\n",
       "  <tbody>\n",
       "    <tr>\n",
       "      <th>count</th>\n",
       "      <td>426.000000</td>\n",
       "      <td>426.000000</td>\n",
       "      <td>426.000000</td>\n",
       "      <td>426.000000</td>\n",
       "    </tr>\n",
       "    <tr>\n",
       "      <th>mean</th>\n",
       "      <td>2793.925469</td>\n",
       "      <td>2792.517019</td>\n",
       "      <td>2790.805751</td>\n",
       "      <td>2795.007629</td>\n",
       "    </tr>\n",
       "    <tr>\n",
       "      <th>std</th>\n",
       "      <td>3259.800987</td>\n",
       "      <td>3259.841359</td>\n",
       "      <td>3260.802650</td>\n",
       "      <td>3258.621763</td>\n",
       "    </tr>\n",
       "    <tr>\n",
       "      <th>min</th>\n",
       "      <td>50.000000</td>\n",
       "      <td>50.000000</td>\n",
       "      <td>50.000000</td>\n",
       "      <td>50.000000</td>\n",
       "    </tr>\n",
       "    <tr>\n",
       "      <th>25%</th>\n",
       "      <td>600.000000</td>\n",
       "      <td>600.000000</td>\n",
       "      <td>600.000000</td>\n",
       "      <td>600.000000</td>\n",
       "    </tr>\n",
       "    <tr>\n",
       "      <th>50%</th>\n",
       "      <td>1800.000000</td>\n",
       "      <td>1800.000000</td>\n",
       "      <td>1800.000000</td>\n",
       "      <td>1800.000000</td>\n",
       "    </tr>\n",
       "    <tr>\n",
       "      <th>75%</th>\n",
       "      <td>3600.000000</td>\n",
       "      <td>3600.000000</td>\n",
       "      <td>3600.000000</td>\n",
       "      <td>3600.000000</td>\n",
       "    </tr>\n",
       "    <tr>\n",
       "      <th>max</th>\n",
       "      <td>16000.000000</td>\n",
       "      <td>16000.000000</td>\n",
       "      <td>16000.000000</td>\n",
       "      <td>16000.000000</td>\n",
       "    </tr>\n",
       "  </tbody>\n",
       "</table>\n",
       "</div>"
      ],
      "text/plain": [
       "       Sum_Of_Net_Weight_Kg  Sale_LastMonth  Sale_2Monthsback  \\\n",
       "count            426.000000      426.000000        426.000000   \n",
       "mean            2793.925469     2792.517019       2790.805751   \n",
       "std             3259.800987     3259.841359       3260.802650   \n",
       "min               50.000000       50.000000         50.000000   \n",
       "25%              600.000000      600.000000        600.000000   \n",
       "50%             1800.000000     1800.000000       1800.000000   \n",
       "75%             3600.000000     3600.000000       3600.000000   \n",
       "max            16000.000000    16000.000000      16000.000000   \n",
       "\n",
       "       Sale_3Monthsback  \n",
       "count        426.000000  \n",
       "mean        2795.007629  \n",
       "std         3258.621763  \n",
       "min           50.000000  \n",
       "25%          600.000000  \n",
       "50%         1800.000000  \n",
       "75%         3600.000000  \n",
       "max        16000.000000  "
      ]
     },
     "execution_count": 6,
     "metadata": {},
     "output_type": "execute_result"
    }
   ],
   "source": [
    "df.describe()"
   ]
  },
  {
   "cell_type": "code",
   "execution_count": 7,
   "id": "fc4ba397",
   "metadata": {},
   "outputs": [],
   "source": [
    "from sklearn.linear_model import LinearRegression\n",
    "lin_model=LinearRegression()"
   ]
  },
  {
   "cell_type": "code",
   "execution_count": 8,
   "id": "3e3caa41",
   "metadata": {},
   "outputs": [],
   "source": [
    "from sklearn.ensemble import RandomForestRegressor\n",
    "model=RandomForestRegressor(n_estimators=100, max_features=3, random_state=1)"
   ]
  },
  {
   "cell_type": "code",
   "execution_count": 9,
   "id": "4bf929f5",
   "metadata": {},
   "outputs": [
    {
     "name": "stdout",
     "output_type": "stream",
     "text": [
      "[[ 2400.    600.   2000. ]\n",
      " [ 1581.5  2400.    600. ]\n",
      " [10000.   1581.5  2400. ]\n",
      " ...\n",
      " [ 1990.    200.   1560. ]\n",
      " [  210.   1990.    200. ]\n",
      " [ 1329.    210.   1990. ]]\n"
     ]
    }
   ],
   "source": [
    "import numpy as np\n",
    "x1,x2,x3,y=df['Sale_LastMonth'],df['Sale_2Monthsback'],df['Sale_3Monthsback'],df['Sum_Of_Net_Weight_Kg']\n",
    "x1,x2,x3,y=np.array(x1),np.array(x2),np.array(x3),np.array(y)\n",
    "x1,x2,x3,y=x1.reshape(-1,1),x2.reshape(-1,1),x3.reshape(-1,1),y.reshape(-1,1)\n",
    "final_x=np.concatenate((x1,x2,x3),axis=1)\n",
    "print(final_x)"
   ]
  },
  {
   "cell_type": "code",
   "execution_count": 10,
   "id": "423495c9",
   "metadata": {},
   "outputs": [],
   "source": [
    "X_train,X_test,y_train,y_test=final_x[:-120],final_x[-120:],y[:-120],y[-120:]"
   ]
  },
  {
   "cell_type": "code",
   "execution_count": 11,
   "id": "fafa94a2",
   "metadata": {},
   "outputs": [
    {
     "name": "stderr",
     "output_type": "stream",
     "text": [
      "E:\\Users\\BAGJA\\AppData\\Local\\Temp\\ipykernel_5128\\1977262272.py:1: DataConversionWarning: A column-vector y was passed when a 1d array was expected. Please change the shape of y to (n_samples,), for example using ravel().\n",
      "  model.fit(X_train,y_train)\n"
     ]
    },
    {
     "data": {
      "text/plain": [
       "LinearRegression()"
      ]
     },
     "execution_count": 11,
     "metadata": {},
     "output_type": "execute_result"
    }
   ],
   "source": [
    "model.fit(X_train,y_train)\n",
    "lin_model.fit(X_train,y_train)"
   ]
  },
  {
   "cell_type": "code",
   "execution_count": 12,
   "id": "1fcc7b1a",
   "metadata": {},
   "outputs": [
    {
     "data": {
      "image/png": "[encoded data removed]",
      "text/plain": [
       "<Figure size 864x576 with 1 Axes>"
      ]
     },
     "metadata": {
      "needs_background": "light"
     },
     "output_type": "display_data"
    },
    {
     "name": "stdout",
     "output_type": "stream",
     "text": [
      "[ 1997.66147242  1769.83638584  3830.33333333  3445.2\n",
      "  2827.2         1034.93333333  1031.3         1216.40285907\n",
      "   843.71166667   805.74         736.5025       736.5025\n",
      "   736.5025       736.5025       613.42166667   513.28583333\n",
      "   407.64325758   135.50714286   194.94333333   184.80805195\n",
      "   184.80805195   164.39333333  1695.52       10853.\n",
      " 12211.27619048  8517.66666667  6982.          6120.\n",
      "  5274.          4864.          4896.66666667  4045.\n",
      "  3171.15        3232.81        3210.05        3084.\n",
      "  2779.46786325  2779.46786325  2779.46786325  2317.06666667\n",
      "  4131.8         2177.65        2332.01515152  1953.16634199\n",
      "  1759.63690476  1664.91111111  1530.4         1014.06666667\n",
      "  1095.64666667  1216.40285907  1216.40285907  1216.40285907\n",
      "  1216.40285907  1216.40285907   843.71166667   805.74\n",
      "   736.5025       613.42166667   572.78095238   499.79928571\n",
      "   450.43261905   446.20678571   408.2925       403.6625\n",
      "   399.2          396.77575758   341.43354978   317.49347944\n",
      "   293.77443182   263.77443182   243.25         198.75\n",
      "   195.74471861   184.80805195   184.80805195  1737.135\n",
      "  1829.465       5070.5         2340.          3514.3\n",
      "   703.1         1218.14        6347.73116883  2349.6\n",
      "  6974.90587302  2273.08        4172.6         2516.1\n",
      "  2249.275       2194.23        2848.2         3224.4\n",
      "  4276.03333333  4002.96666667  5066.2         5018.\n",
      "  2594.74666667  6582.8         2475.66        2771.\n",
      "  1731.95       11318.97619048  9350.8         2250.8\n",
      "   720.525        952.21666667   500.91254329   349.84820887\n",
      "   500.91254329  1759.28083333  7235.99253968  4266.4\n",
      "  2810.2         1906.6         1924.01050975  2237.81212121\n",
      "  1600.6         1416.31833333   851.57833333  1921.195     ]\n"
     ]
    },
    {
     "data": {
      "text/plain": [
       "285458.51712082035"
      ]
     },
     "execution_count": 12,
     "metadata": {},
     "output_type": "execute_result"
    }
   ],
   "source": [
    "pred=model.predict(X_test)\n",
    "import matplotlib.pyplot as plt\n",
    "plt.rcParams[\"figure.figsize\"] = (12,8)\n",
    "plt.plot(pred,label='Random_Forest_Predictions')\n",
    "plt.plot(y_test,label='Actual Quantity') \n",
    "plt.legend(loc=\"upper left\")\n",
    "plt.show()\n",
    "print(pred)\n",
    "pred.sum()"
   ]
  },
  {
   "cell_type": "code",
   "execution_count": 18,
   "id": "162df8c4",
   "metadata": {},
   "outputs": [
    {
     "data": {
      "text/plain": [
       "4139.1410000000005"
      ]
     },
     "execution_count": 18,
     "metadata": {},
     "output_type": "execute_result"
    }
   ],
   "source": [
    "285458*0.0145"
   ]
  },
  {
   "cell_type": "code",
   "execution_count": 25,
   "id": "7ad00ea4",
   "metadata": {
    "scrolled": false
   },
   "outputs": [
    {
     "data": {
      "image/png": "[encoded data removed]",
      "text/plain": [
       "<Figure size 792x432 with 1 Axes>"
      ]
     },
     "metadata": {
      "needs_background": "light"
     },
     "output_type": "display_data"
    },
    {
     "name": "stdout",
     "output_type": "stream",
     "text": [
      "[[ 2279.31733384]\n",
      " [ 2203.32732837]\n",
      " [ 2024.76213621]\n",
      " [ 1911.51146313]\n",
      " [ 1862.03752776]\n",
      " [ 1705.48892805]\n",
      " [ 1621.92256344]\n",
      " [ 1576.23667576]\n",
      " [ 1500.24667029]\n",
      " [ 1458.46348799]\n",
      " [ 1435.62054415]\n",
      " [ 1435.62054415]\n",
      " [ 1435.62054415]\n",
      " [ 1435.62054415]\n",
      " [ 1359.63053867]\n",
      " [ 1241.8573509 ]\n",
      " [ 1177.23122476]\n",
      " [ 1078.39827544]\n",
      " [ 1036.61509314]\n",
      " [ 1013.7721493 ]\n",
      " [ 1013.7721493 ]\n",
      " [ 1006.17314876]\n",
      " [  971.59882834]\n",
      " [ 6993.80669628]\n",
      " [10306.43251177]\n",
      " [ 9082.84632792]\n",
      " [ 7107.55901393]\n",
      " [ 5722.74850929]\n",
      " [ 5312.26399378]\n",
      " [ 4985.34584287]\n",
      " [ 4628.12357417]\n",
      " [ 4077.13811221]\n",
      " [ 3647.71335824]\n",
      " [ 3411.9372717 ]\n",
      " [ 3155.38477919]\n",
      " [ 3039.50535151]\n",
      " [ 2982.39799192]\n",
      " [ 2982.39799192]\n",
      " [ 2982.39799192]\n",
      " [ 2754.42797549]\n",
      " [ 2553.08842311]\n",
      " [ 2442.77640929]\n",
      " [ 2404.73546436]\n",
      " [ 2335.58682352]\n",
      " [ 2221.60168344]\n",
      " [ 2085.55414059]\n",
      " [ 1891.74500514]\n",
      " [ 1699.08364427]\n",
      " [ 1605.93250275]\n",
      " [ 1576.23667576]\n",
      " [ 1576.23667576]\n",
      " [ 1576.23667576]\n",
      " [ 1576.23667576]\n",
      " [ 1576.23667576]\n",
      " [ 1500.24667029]\n",
      " [ 1458.46348799]\n",
      " [ 1435.62054415]\n",
      " [ 1359.63053867]\n",
      " [ 1317.84735637]\n",
      " [ 1295.00441253]\n",
      " [ 1272.20741089]\n",
      " [ 1244.47445511]\n",
      " [ 1210.64738415]\n",
      " [ 1195.46196569]\n",
      " [ 1170.65902717]\n",
      " [ 1160.09901688]\n",
      " [ 1154.38828092]\n",
      " [ 1144.88953023]\n",
      " [ 1139.28668242]\n",
      " [ 1111.90559678]\n",
      " [ 1094.62126345]\n",
      " [ 1047.22735957]\n",
      " [ 1025.19362122]\n",
      " [ 1013.7721493 ]\n",
      " [ 1013.7721493 ]\n",
      " [  975.77714657]\n",
      " [ 2056.7406348 ]\n",
      " [ 1891.27525151]\n",
      " [ 4464.31630577]\n",
      " [ 3038.64805634]\n",
      " [ 2147.76969368]\n",
      " [ 1982.81716718]\n",
      " [ 1800.19012037]\n",
      " [ 2496.03733738]\n",
      " [ 2905.94856449]\n",
      " [ 2913.98434557]\n",
      " [ 5604.16770661]\n",
      " [ 3943.18345197]\n",
      " [ 3227.24191054]\n",
      " [ 3590.08766538]\n",
      " [ 4000.34444799]\n",
      " [ 3970.72880377]\n",
      " [ 5273.80759101]\n",
      " [ 5812.97238911]\n",
      " [ 3940.7715602 ]\n",
      " [ 4712.26058974]\n",
      " [ 3658.16103109]\n",
      " [ 3059.30684131]\n",
      " [ 3001.45209683]\n",
      " [ 2157.64275941]\n",
      " [ 5250.96200973]\n",
      " [ 9132.88734614]\n",
      " [ 5737.90782115]\n",
      " [ 3289.45746363]\n",
      " [ 1424.25666481]\n",
      " [ 1264.70029474]\n",
      " [ 1253.22123023]\n",
      " [ 1196.17146322]\n",
      " [ 1253.22123023]\n",
      " [ 2184.04153439]\n",
      " [ 2708.28266586]\n",
      " [ 5642.04818354]\n",
      " [ 3684.90931775]\n",
      " [ 2604.16914848]\n",
      " [ 1956.18670314]\n",
      " [ 1997.92460261]\n",
      " [ 1503.4842835 ]\n",
      " [ 1849.2147164 ]\n",
      " [ 1391.53113118]\n",
      " [ 1649.26923668]]\n"
     ]
    },
    {
     "data": {
      "text/plain": [
       "309043.4592385924"
      ]
     },
     "execution_count": 25,
     "metadata": {},
     "output_type": "execute_result"
    }
   ],
   "source": [
    "lin_pred=lin_model.predict(X_test)\n",
    "import matplotlib.pyplot as plt\n",
    "plt.rcParams[\"figure.figsize\"] = (11,6)\n",
    "plt.plot(lin_pred,label='Linear_Regression_Predictions')\n",
    "plt.plot(y_test,label='Actual Quantity')\n",
    "plt.legend(loc=\"upper left\")\n",
    "plt.show()\n",
    "print(lin_pred)\n",
    "lin_pred.sum()"
   ]
  },
  {
   "cell_type": "code",
   "execution_count": 23,
   "id": "eb1128d2",
   "metadata": {},
   "outputs": [
    {
     "data": {
      "text/plain": [
       "4441.074500000001"
      ]
     },
     "execution_count": 23,
     "metadata": {},
     "output_type": "execute_result"
    }
   ],
   "source": [
    "(309043-2762)*0.0145"
   ]
  },
  {
   "cell_type": "code",
   "execution_count": 16,
   "id": "c0740a16",
   "metadata": {},
   "outputs": [],
   "source": [
    "from sklearn.metrics import mean_squared_error\n",
    "from math import sqrt\n",
    "rmse_rf=sqrt(mean_squared_error(pred,y_test))\n",
    "rmse_lr=sqrt(mean_squared_error(lin_pred,y_test))"
   ]
  },
  {
   "cell_type": "code",
   "execution_count": 17,
   "id": "993c0bcf",
   "metadata": {},
   "outputs": [
    {
     "name": "stdout",
     "output_type": "stream",
     "text": [
      "Mean Squared Error for Random Forest Model is: 2799.3101812234804\n",
      "Mean Squared Error for Linear Regression Model is: 2762.543890299774\n"
     ]
    }
   ],
   "source": [
    "print('Mean Squared Error for Random Forest Model is:',rmse_rf)\n",
    "print('Mean Squared Error for Linear Regression Model is:',rmse_lr)"
   ]
  }
 ],
 "metadata": {
  "kernelspec": {
   "display_name": "Python 3 (ipykernel)",
   "language": "python",
   "name": "python3"
  },
  "language_info": {
   "codemirror_mode": {
    "name": "ipython",
    "version": 3
   },
   "file_extension": ".py",
   "mimetype": "text/x-python",
   "name": "python",
   "nbconvert_exporter": "python",
   "pygments_lexer": "ipython3",
   "version": "3.9.10"
  }
 },
 "nbformat": 4,
 "nbformat_minor": 5
}
